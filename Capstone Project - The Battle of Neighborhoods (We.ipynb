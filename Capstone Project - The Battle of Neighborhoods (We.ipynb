{
    "nbformat_minor": 1, 
    "cells": [
        {
            "source": "# Recommendation to Open a Restaurant in Toronto", 
            "cell_type": "markdown", 
            "metadata": {
                "collapsed": true
            }
        }, 
        {
            "source": "### Introduction / Business Problem", 
            "cell_type": "markdown", 
            "metadata": {}
        }, 
        {
            "source": "#### One of the most important factors in the long-term sucess of a restaurant is location. Often the top priority of any restaurant along with good service and food is to attract new customers. For this purpose it would greatly help if you can open your restaurant in a bustling neigbourhood or where the type of restaurant you intend to open are common. Here is where data science can help by building models to identify perfect locations for restauraeurs. The model can illustrate which neigborhoods are the right locations to open a specific type of type restaurant and which ones are not. We will use Foursquare API to get geospatial information about different neighborhoods in Toronto, group the neighboirhoods in Toronto in clusters and combine the results to reach to our conclusion. The intended end use of the results of this project is to identify the locations that are near perfect to open a certain type of restaurant and provide this recommendation to a restaurateur. ", 
            "cell_type": "markdown", 
            "metadata": {}
        }, 
        {
            "source": "### Data", 
            "cell_type": "markdown", 
            "metadata": {}
        }, 
        {
            "source": "#### For the Toronto neighborhood data, the following Wikipedia page, https://en.wikipedia.org/wiki/List_of_postal_codes_of_Canada:_M, has all the information we need to explore and cluster the neighborhoods in Toronto. The data will be scraped from the Wikipedia page, the data will be wrangled, cleaned, and then will be read it into a pandas dataframe so that it is in a structured format to be used for exploratory data analysis. Once the data is in a structured format, we will analyse the dataset to explore and cluster the neighborhoods in the city of Toronto. After scraping the data off the Wikipedia page, the dataset has 289 rows and 3 columns, namely Postcode, Borough and Neighborhoods. ", 
            "cell_type": "markdown", 
            "metadata": {}
        }, 
        {
            "execution_count": null, 
            "cell_type": "code", 
            "metadata": {}, 
            "outputs": [], 
            "source": ""
        }
    ], 
    "metadata": {
        "kernelspec": {
            "display_name": "Python 3.5", 
            "name": "python3", 
            "language": "python"
        }, 
        "language_info": {
            "mimetype": "text/x-python", 
            "nbconvert_exporter": "python", 
            "version": "3.5.5", 
            "name": "python", 
            "file_extension": ".py", 
            "pygments_lexer": "ipython3", 
            "codemirror_mode": {
                "version": 3, 
                "name": "ipython"
            }
        }
    }, 
    "nbformat": 4
}